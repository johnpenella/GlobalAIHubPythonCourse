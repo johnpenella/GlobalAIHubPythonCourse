{
 "cells": [
  {
   "cell_type": "code",
   "execution_count": 1,
   "metadata": {},
   "outputs": [],
   "source": [
    "# John Penella\n",
    "# GAIH Final Project\n",
    "# 2/7/2021"
   ]
  },
  {
   "attachments": {
    "finalproject.png": {
     "image/png": "[encoded data removed]"
    }
   },
   "cell_type": "markdown",
   "metadata": {},
   "source": [
    "![finalproject.png](attachment:finalproject.png)"
   ]
  },
  {
   "cell_type": "code",
   "execution_count": 2,
   "metadata": {},
   "outputs": [],
   "source": [
    "#Creates employee, manager classes, initializes object attributes, simple functions for job title and languages known\n",
    "class employee():\n",
    "    def __init__(self, name, age, langs):\n",
    "        self.name = name\n",
    "        self.age = age\n",
    "        self.lang = langs\n",
    "        \n",
    "    def title(self):\n",
    "        print('\\n' + self.name + ' is an employee.')\n",
    "        \n",
    "    def employeeLanguages(self):\n",
    "        print('\\n' + self.name + ' can speak:')\n",
    "        for language in self.lang:\n",
    "            print(language.capitalize())\n",
    "\n",
    "class manager():\n",
    "    def __init__(self, name, age, langs):\n",
    "        self.name = name\n",
    "        self.age = age\n",
    "        self.lang = langs\n",
    "        \n",
    "    def title(self):\n",
    "        print('\\n' + self.name + ' is a manager.')\n",
    "        \n",
    "    def managerLanguages(self):\n",
    "        print('\\n' + self.name + ' can speak:')\n",
    "        for language in self.lang:\n",
    "            print(language.capitalize())"
   ]
  },
  {
   "cell_type": "code",
   "execution_count": 3,
   "metadata": {},
   "outputs": [],
   "source": [
    "#creates employee objects, assigns attributes\n",
    "pam = employee('Pam','26',['english','spanish'])      \n",
    "bob = employee('Bob','30',['english','dutch','french'])\n",
    "finn = employee('Finn','42',['english','spanish','portugese'])\n",
    "\n",
    "#managers...\n",
    "gretyl = manager('Gretyl','75',['german'])           \n",
    "hank = manager('Hank','17',['english','german','italian','turkish'])\n",
    "\n",
    "#organizes employees,managers into list, company\n",
    "employees = [pam,bob,finn]                            \n",
    "managers = [gretyl,hank]\n",
    "company = employees + managers"
   ]
  },
  {
   "cell_type": "code",
   "execution_count": 4,
   "metadata": {},
   "outputs": [
    {
     "name": "stdout",
     "output_type": "stream",
     "text": [
      "\n",
      "Pam is an employee.\n",
      "\n",
      "Pam can speak:\n",
      "English\n",
      "Spanish\n",
      "\n",
      "Hank is a manager.\n",
      "\n",
      "Hank can speak:\n",
      "English\n",
      "German\n",
      "Italian\n",
      "Turkish\n"
     ]
    }
   ],
   "source": [
    "#Object functions give title and known languages of single employee:\n",
    "pam.title() \n",
    "pam.employeeLanguages()\n",
    "hank.title() \n",
    "hank.managerLanguages()"
   ]
  },
  {
   "cell_type": "code",
   "execution_count": 5,
   "metadata": {},
   "outputs": [
    {
     "name": "stdout",
     "output_type": "stream",
     "text": [
      "Members of this company can speak:\n",
      "English\n",
      "Spanish\n",
      "Dutch\n",
      "French\n",
      "Portugese\n",
      "German\n",
      "Italian\n",
      "Turkish\n"
     ]
    }
   ],
   "source": [
    "#Prints languages known by company without duplicates using for-loop:\n",
    "companyLangs = []\n",
    "print('Members of this company can speak:')\n",
    "for person in company:\n",
    "    for language in person.lang:\n",
    "        if language not in companyLangs:\n",
    "                companyLangs.append(language)\n",
    "                print(language.capitalize())"
   ]
  },
  {
   "cell_type": "code",
   "execution_count": 6,
   "metadata": {},
   "outputs": [
    {
     "name": "stdout",
     "output_type": "stream",
     "text": [
      "Members of this company can speak:\n",
      "English\n",
      "Spanish\n",
      "Dutch\n",
      "French\n",
      "Portugese\n",
      "German\n",
      "Italian\n",
      "Turkish\n"
     ]
    }
   ],
   "source": [
    "#Prints languages known by company without duplicates using List Comprehensions:\n",
    "companyLangByEmployee = [person.lang for person in company]\n",
    "companyLangs = [language for person in companyLangByEmployee for language in person]\n",
    "cl_neat = []\n",
    "p = [cl_neat.append(i) for i in companyLangs if i not in cl_neat]\n",
    "\n",
    "print('Members of this company can speak:')\n",
    "for i in range(len(cl_neat)):\n",
    "    print(cl_neat[i].capitalize())"
   ]
  },
  {
   "cell_type": "markdown",
   "metadata": {},
   "source": [
    "# Thanks for the Awesome Class! This was fun :)"
   ]
  }
 ],
 "metadata": {
  "kernelspec": {
   "display_name": "Python 3",
   "language": "python",
   "name": "python3"
  },
  "language_info": {
   "codemirror_mode": {
    "name": "ipython",
    "version": 3
   },
   "file_extension": ".py",
   "mimetype": "text/x-python",
   "name": "python",
   "nbconvert_exporter": "python",
   "pygments_lexer": "ipython3",
   "version": "3.7.4"
  }
 },
 "nbformat": 4,
 "nbformat_minor": 2
}
