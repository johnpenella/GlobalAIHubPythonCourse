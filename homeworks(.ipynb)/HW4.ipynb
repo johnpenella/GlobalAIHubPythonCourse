{
 "cells": [
  {
   "cell_type": "code",
   "execution_count": 1,
   "metadata": {},
   "outputs": [
    {
     "data": {
      "text/plain": [
       "'\\nJohn Penella\\nHomework 4\\n06-Feb-21\\n'"
      ]
     },
     "execution_count": 1,
     "metadata": {},
     "output_type": "execute_result"
    }
   ],
   "source": [
    "'''\n",
    "John Penella\n",
    "Homework 4\n",
    "06-Feb-21\n",
    "'''"
   ]
  },
  {
   "attachments": {
    "day5.png": {
     "image/png": "[encoded data removed]"
    }
   },
   "cell_type": "markdown",
   "metadata": {},
   "source": [
    "![day5.png](attachment:day5.png)"
   ]
  },
  {
   "cell_type": "code",
   "execution_count": 2,
   "metadata": {},
   "outputs": [],
   "source": [
    "class Animals():                                                                        #parent class/object\n",
    "    def __init__(self, common, genus, species):\n",
    "        self.name = common\n",
    "        self.genus = genus\n",
    "        self.species = species\n",
    "\n",
    "    def commonName(self):\n",
    "        print('The ' + self.name + ' is an animal.')\n",
    "    \n",
    "    def latinName(self):\n",
    "        print(self.genus, self.species + ' is the Latin name for ' + self.name)"
   ]
  },
  {
   "cell_type": "code",
   "execution_count": 3,
   "metadata": {},
   "outputs": [],
   "source": [
    "class Dogs(Animals):                                                                #child class/object. inherits\n",
    "    def __init__(self, common, genus, species, soundMake, favFood, mansBestFriend): #self.common,genus,species from animals\n",
    "        super().__init__(common, genus, species)                                        \n",
    "        self.sound = soundMake\n",
    "        self.food = favFood\n",
    "        self.mbf = mansBestFriend\n",
    "    \n",
    "    def soundMake(self):\n",
    "        print('The ' + self.name + ' goes ' + self.sound)\n",
    "        \n",
    "    def favFood(self):\n",
    "        print(self.name + \"'s' love to eat \" + self.food + '!')\n",
    "        \n",
    "    def mansBestFriend(self):\n",
    "        print('Are ' + self.name + \"s Man's Best Friend?\", str(self.mbf) + '!')"
   ]
  },
  {
   "cell_type": "code",
   "execution_count": 4,
   "metadata": {},
   "outputs": [
    {
     "name": "stdout",
     "output_type": "stream",
     "text": [
      "Canis familiaris is the Latin name for Dog\n",
      "The Dog goes Woof!\n",
      "Dog's' love to eat bones!\n",
      "Are Dogs Man's Best Friend? True!\n"
     ]
    }
   ],
   "source": [
    "spot = Dogs('Dog', 'Canis', 'familiaris', 'Woof!', 'bones', True)\n",
    "spot.latinName()                          #calls method from Animals, with Animals attributes\n",
    "spot.soundMake()                          #calls method from Dogs, with Cats attributes\n",
    "spot.favFood()\n",
    "spot.mansBestFriend()"
   ]
  },
  {
   "cell_type": "code",
   "execution_count": 5,
   "metadata": {},
   "outputs": [],
   "source": [
    "class Cats(Animals):                                                                     #child class/object\n",
    "    def __init__(self, common, genus, species, soundMake, favFood, mansBestFriend):\n",
    "        super().__init__(common, genus, species)\n",
    "        self.sound = soundMake\n",
    "        self.food = favFood\n",
    "        self.mbf = mansBestFriend\n",
    "    \n",
    "    def soundMake(self):\n",
    "        print('The ' + self.name + ' goes ' + self.sound)\n",
    "        \n",
    "    def favFood(self):\n",
    "        print(self.name + \"'s' love to eat \" + self.food + '. How Rude.')\n",
    "        \n",
    "    def mansBestFriend(self):\n",
    "        print('Are ' + self.name + \"s Man's Best Friend?\", str(self.mbf) + '!!!!!')"
   ]
  },
  {
   "cell_type": "code",
   "execution_count": 6,
   "metadata": {
    "scrolled": true
   },
   "outputs": [
    {
     "name": "stdout",
     "output_type": "stream",
     "text": [
      "Felis catus is the Latin name for Cat\n",
      "The Cat goes meow\n",
      "Cat's' love to eat Mice. How Rude.\n",
      "Are Cats Man's Best Friend? False!!!!!\n"
     ]
    }
   ],
   "source": [
    "felix = Cats('Cat', 'Felis', 'catus', 'meow', 'Mice', False)\n",
    "felix.latinName()                                 #calls method from Animals, with Animals attributes\n",
    "felix.soundMake()                                 #calls method from from Cats, with Cats attributes\n",
    "felix.favFood()\n",
    "felix.mansBestFriend()"
   ]
  },
  {
   "cell_type": "code",
   "execution_count": null,
   "metadata": {},
   "outputs": [],
   "source": []
  }
 ],
 "metadata": {
  "kernelspec": {
   "display_name": "Python 3",
   "language": "python",
   "name": "python3"
  },
  "language_info": {
   "codemirror_mode": {
    "name": "ipython",
    "version": 3
   },
   "file_extension": ".py",
   "mimetype": "text/x-python",
   "name": "python",
   "nbconvert_exporter": "python",
   "pygments_lexer": "ipython3",
   "version": "3.7.4"
  }
 },
 "nbformat": 4,
 "nbformat_minor": 4
}
