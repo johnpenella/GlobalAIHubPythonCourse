{
 "cells": [
  {
   "attachments": {
    "gaih-hw-day_3.png": {
     "image/png": "[encoded data removed]"
    }
   },
   "cell_type": "markdown",
   "metadata": {},
   "source": [
    "![gaih-hw-day_3.png](attachment:gaih-hw-day_3.png)"
   ]
  },
  {
   "cell_type": "code",
   "execution_count": null,
   "metadata": {},
   "outputs": [],
   "source": [
    "#Simple Version.\n",
    "#Login only\n",
    "#References list of tuple pairs in infolist\n",
    "\n",
    "infoList = [\n",
    "    ('username','password'),\n",
    "    ('bob@gmail.com','bobbyboy'),\n",
    "    ('flyguy@netscape.com','oldskool')]\n",
    "\n",
    "info = (input(\"Enter username:\").strip(),input(\"Enter password:\").strip())\n",
    "\n",
    "if len(info[0]) == 0 or len(info[0]) == 0:    #prevents blank entries\n",
    "    print('\\nBlank entry, try Again.')\n",
    "elif info in infoList:                        #logs user in if correct user/pass\n",
    "    print(\"...\\n\",\"Login Successful!\")\n",
    "else:\n",
    "    print(\"...\\n\",\"Incorrect username/password...Try Again\")     #boots user if user/pass not found"
   ]
  },
  {
   "cell_type": "code",
   "execution_count": null,
   "metadata": {},
   "outputs": [],
   "source": [
    "#Deluxe Version:\n",
    "#Login or create new account.\n",
    "#References/stores user info in dictionary, userDict.\n",
    "\n",
    "infoDict = {\n",
    "    'username':'password',\n",
    "    'bob@gmail.com':'bobbyboy',\n",
    "    'becky@yahoo.com':'sunnyday',\n",
    "    'flyguy@netscape.com':'oldskool',}\n",
    "\n",
    "while True:\n",
    "    action = input('Enter \"login\" to login.\\nEnter \"new\" to create account:\\nEnter \"exit\" to exit.\\n').strip() \n",
    "    if action == 'login':\n",
    "        print('\\n-Login-')\n",
    "        info = (input('Enter username:').rstrip(),input('Enter password:').rstrip()) #(user,pswd)\n",
    "        if info in infoDict.items():\n",
    "            print(\"...\\n\",\"Login Successful!\")\n",
    "            break\n",
    "        else:\n",
    "            print(\"...\\n\",\"Incorrect username/password...Try Again\")\n",
    "    elif action == 'new':\n",
    "        print('\\n-Create New Account-')\n",
    "        newuser = input('enter new username:').rstrip()\n",
    "        newpass = input('enter new password:').rstrip()\n",
    "        if len(newuser) == 0 or len(newpass) == 0:\n",
    "            print('\\nBlank entry, try Again.')\n",
    "        elif newuser not in infoDict.keys():\n",
    "            infoDict[newuser] = newpass\n",
    "            print('\\n-Account created!-')\n",
    "            break\n",
    "        else:\n",
    "            print('Username already taken, try another.')\n",
    "    elif action == 'exit':\n",
    "        print('\\nGoodbye.')\n",
    "        break\n",
    "    else:\n",
    "        print('Error, try again.')\n"
   ]
  },
  {
   "cell_type": "code",
   "execution_count": null,
   "metadata": {},
   "outputs": [],
   "source": []
  }
 ],
 "metadata": {
  "kernelspec": {
   "display_name": "Python 3",
   "language": "python",
   "name": "python3"
  },
  "language_info": {
   "codemirror_mode": {
    "name": "ipython",
    "version": 3
   },
   "file_extension": ".py",
   "mimetype": "text/x-python",
   "name": "python",
   "nbconvert_exporter": "python",
   "pygments_lexer": "ipython3",
   "version": "3.7.4"
  }
 },
 "nbformat": 4,
 "nbformat_minor": 2
}
