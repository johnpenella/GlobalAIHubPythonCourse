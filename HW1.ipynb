{
 "cells": [
  {
   "cell_type": "code",
   "execution_count": null,
   "metadata": {},
   "outputs": [],
   "source": [
    "'''\n",
    "John Penella\n",
    "Homework 1\n",
    "02/04/21\n",
    "'''"
   ]
  },
  {
   "attachments": {
    "gaih-hw-day_2.png": {
     "image/png": "[encoded data removed]"
    }
   },
   "cell_type": "markdown",
   "metadata": {},
   "source": [
    "![gaih-hw-day_2.png](attachment:gaih-hw-day_2.png)"
   ]
  },
  {
   "cell_type": "code",
   "execution_count": null,
   "metadata": {},
   "outputs": [],
   "source": [
    "#Question 1: \n",
    "#a range from 0 to n is assigned to list1 (n can be odd or even)\n",
    "#second half of list 1 added to first half of list1, assigned to list2\n",
    "\n",
    "n = 10\n",
    "print('even n:',n)\n",
    "list1 = [i for i in range(n)]\n",
    "list2 = list1[int(len(list1)/2):len(list1)] + list1[0:int(len(list1)/2)]\n",
    "print(list1)\n",
    "print(list2,'\\n')\n",
    "\n",
    "n = 9\n",
    "print('odd n:',n)\n",
    "list1 = [i for i in range(n)]\n",
    "list2 = list1[int(len(list1)/2):len(list1)] + list1[0:int(len(list1)/2)]\n",
    "print(list1)\n",
    "print(list2)"
   ]
  },
  {
   "cell_type": "code",
   "execution_count": null,
   "metadata": {},
   "outputs": [],
   "source": [
    "#Question 2:\n",
    "\n",
    "n = int(input('Enter a single digit integer:'))  \n",
    "\n",
    "evens = [i for i in range(n) if i % 2 == 0] + [n]\n",
    "print(evens)"
   ]
  }
 ],
 "metadata": {
  "kernelspec": {
   "display_name": "Python 3",
   "language": "python",
   "name": "python3"
  },
  "language_info": {
   "codemirror_mode": {
    "name": "ipython",
    "version": 3
   },
   "file_extension": ".py",
   "mimetype": "text/x-python",
   "name": "python",
   "nbconvert_exporter": "python",
   "pygments_lexer": "ipython3",
   "version": "3.7.4"
  }
 },
 "nbformat": 4,
 "nbformat_minor": 2
}
